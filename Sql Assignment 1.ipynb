{
 "cells": [
  {
   "cell_type": "code",
   "execution_count": 1,
   "id": "ae1c0eae",
   "metadata": {},
   "outputs": [
    {
     "name": "stdout",
     "output_type": "stream",
     "text": [
      "Requirement already satisfied: mysql-connector-python in c:\\users\\anisa\\anaconda3\\lib\\site-packages (8.0.28)\n",
      "Requirement already satisfied: protobuf>=3.0.0 in c:\\users\\anisa\\anaconda3\\lib\\site-packages (from mysql-connector-python) (3.17.3)\n",
      "Requirement already satisfied: six>=1.9 in c:\\users\\anisa\\anaconda3\\lib\\site-packages (from protobuf>=3.0.0->mysql-connector-python) (1.15.0)\n"
     ]
    }
   ],
   "source": [
    "!pip install mysql-connector-python"
   ]
  },
  {
   "cell_type": "code",
   "execution_count": 2,
   "id": "73aa93d9",
   "metadata": {},
   "outputs": [],
   "source": [
    "import mysql.connector as conn\n"
   ]
  },
  {
   "cell_type": "code",
   "execution_count": 3,
   "id": "a34e197d",
   "metadata": {},
   "outputs": [
    {
     "data": {
      "text/plain": [
       "<mysql.connector.connection_cext.CMySQLConnection at 0x233c463b9a0>"
      ]
     },
     "execution_count": 3,
     "metadata": {},
     "output_type": "execute_result"
    }
   ],
   "source": [
    "conn.connect(host = 'localhost',user = 'root' ,passwd = \"black97tiger19\")"
   ]
  },
  {
   "cell_type": "code",
   "execution_count": 4,
   "id": "8384e76a",
   "metadata": {},
   "outputs": [],
   "source": [
    "mydb = conn.connect(host = 'localhost',user = 'root' ,passwd = \"black97tiger19\")"
   ]
  },
  {
   "cell_type": "code",
   "execution_count": 9,
   "id": "ce78b809",
   "metadata": {},
   "outputs": [],
   "source": [
    "cursor = mydb.cursor()"
   ]
  },
  {
   "cell_type": "code",
   "execution_count": 5,
   "id": "cde3c032",
   "metadata": {},
   "outputs": [],
   "source": [
    "import pandas as pd"
   ]
  },
  {
   "cell_type": "code",
   "execution_count": 6,
   "id": "fdab1195",
   "metadata": {},
   "outputs": [
    {
     "data": {
      "text/html": [
       "<div>\n",
       "<style scoped>\n",
       "    .dataframe tbody tr th:only-of-type {\n",
       "        vertical-align: middle;\n",
       "    }\n",
       "\n",
       "    .dataframe tbody tr th {\n",
       "        vertical-align: top;\n",
       "    }\n",
       "\n",
       "    .dataframe thead th {\n",
       "        text-align: right;\n",
       "    }\n",
       "</style>\n",
       "<table border=\"1\" class=\"dataframe\">\n",
       "  <thead>\n",
       "    <tr style=\"text-align: right;\">\n",
       "      <th></th>\n",
       "      <th>emplyeeid</th>\n",
       "      <th>firstname</th>\n",
       "      <th>lastname</th>\n",
       "      <th>department</th>\n",
       "      <th>salary</th>\n",
       "      <th>date_of_joining</th>\n",
       "    </tr>\n",
       "  </thead>\n",
       "  <tbody>\n",
       "    <tr>\n",
       "      <th>0</th>\n",
       "      <td>208856</td>\n",
       "      <td>Anirudh</td>\n",
       "      <td>sarma</td>\n",
       "      <td>IT</td>\n",
       "      <td>35000</td>\n",
       "      <td>None</td>\n",
       "    </tr>\n",
       "    <tr>\n",
       "      <th>1</th>\n",
       "      <td>9369</td>\n",
       "      <td>TONY</td>\n",
       "      <td>STARK</td>\n",
       "      <td>SOFTWARE ENGINEER</td>\n",
       "      <td>7902</td>\n",
       "      <td>1980-12-17</td>\n",
       "    </tr>\n",
       "    <tr>\n",
       "      <th>2</th>\n",
       "      <td>9499</td>\n",
       "      <td>TIM</td>\n",
       "      <td>ADOLF</td>\n",
       "      <td>SALESMAN</td>\n",
       "      <td>7698</td>\n",
       "      <td>1981-02-20</td>\n",
       "    </tr>\n",
       "    <tr>\n",
       "      <th>3</th>\n",
       "      <td>9566</td>\n",
       "      <td>KIM</td>\n",
       "      <td>JARVIS</td>\n",
       "      <td>MANAGER</td>\n",
       "      <td>7839</td>\n",
       "      <td>1981-04-02</td>\n",
       "    </tr>\n",
       "    <tr>\n",
       "      <th>4</th>\n",
       "      <td>9654</td>\n",
       "      <td>SAM</td>\n",
       "      <td>MILES</td>\n",
       "      <td>SALESMAN</td>\n",
       "      <td>7698</td>\n",
       "      <td>1981-09-28</td>\n",
       "    </tr>\n",
       "    <tr>\n",
       "      <th>5</th>\n",
       "      <td>9782</td>\n",
       "      <td>KEVIN</td>\n",
       "      <td>HILL</td>\n",
       "      <td>MANAGER</td>\n",
       "      <td>7839</td>\n",
       "      <td>1981-06-09</td>\n",
       "    </tr>\n",
       "    <tr>\n",
       "      <th>6</th>\n",
       "      <td>9788</td>\n",
       "      <td>CONNIE</td>\n",
       "      <td>SMITH</td>\n",
       "      <td>ANALYST</td>\n",
       "      <td>7566</td>\n",
       "      <td>1982-12-09</td>\n",
       "    </tr>\n",
       "    <tr>\n",
       "      <th>7</th>\n",
       "      <td>9839</td>\n",
       "      <td>ALFRED</td>\n",
       "      <td>KINSLEY</td>\n",
       "      <td>PRESIDENT</td>\n",
       "      <td>7566</td>\n",
       "      <td>1981-11-17</td>\n",
       "    </tr>\n",
       "    <tr>\n",
       "      <th>8</th>\n",
       "      <td>9844</td>\n",
       "      <td>PAUL</td>\n",
       "      <td>TIMOTHY</td>\n",
       "      <td>SALESMAN</td>\n",
       "      <td>7698</td>\n",
       "      <td>1981-09-08</td>\n",
       "    </tr>\n",
       "    <tr>\n",
       "      <th>9</th>\n",
       "      <td>9876</td>\n",
       "      <td>JOHN</td>\n",
       "      <td>ASGHAR</td>\n",
       "      <td>SOFTWARE ENGINEER</td>\n",
       "      <td>7788</td>\n",
       "      <td>1983-01-12</td>\n",
       "    </tr>\n",
       "    <tr>\n",
       "      <th>10</th>\n",
       "      <td>9900</td>\n",
       "      <td>ROSE</td>\n",
       "      <td>SUMMERS</td>\n",
       "      <td>TECHNICAL LEAD</td>\n",
       "      <td>7698</td>\n",
       "      <td>1981-12-03</td>\n",
       "    </tr>\n",
       "    <tr>\n",
       "      <th>11</th>\n",
       "      <td>9902</td>\n",
       "      <td>ANDREW</td>\n",
       "      <td>FAULKNER</td>\n",
       "      <td>ANAYLYST</td>\n",
       "      <td>7566</td>\n",
       "      <td>1981-12-03</td>\n",
       "    </tr>\n",
       "    <tr>\n",
       "      <th>12</th>\n",
       "      <td>9934</td>\n",
       "      <td>KAREN</td>\n",
       "      <td>MATTHEWS</td>\n",
       "      <td>SOFTWARE ENGINEER</td>\n",
       "      <td>7782</td>\n",
       "      <td>1982-01-23</td>\n",
       "    </tr>\n",
       "    <tr>\n",
       "      <th>13</th>\n",
       "      <td>9591</td>\n",
       "      <td>WENDY</td>\n",
       "      <td>SHAWN</td>\n",
       "      <td>SALESMAN</td>\n",
       "      <td>7698</td>\n",
       "      <td>1981-02-22</td>\n",
       "    </tr>\n",
       "    <tr>\n",
       "      <th>14</th>\n",
       "      <td>9698</td>\n",
       "      <td>BELLA</td>\n",
       "      <td>SWAN</td>\n",
       "      <td>MANAGER</td>\n",
       "      <td>7839</td>\n",
       "      <td>1981-05-01</td>\n",
       "    </tr>\n",
       "    <tr>\n",
       "      <th>15</th>\n",
       "      <td>9777</td>\n",
       "      <td>MADII</td>\n",
       "      <td>HIMBURY</td>\n",
       "      <td>ANALYST</td>\n",
       "      <td>7839</td>\n",
       "      <td>1981-05-01</td>\n",
       "    </tr>\n",
       "    <tr>\n",
       "      <th>16</th>\n",
       "      <td>9860</td>\n",
       "      <td>ATHENA</td>\n",
       "      <td>WILSON</td>\n",
       "      <td>ANALYST</td>\n",
       "      <td>7839</td>\n",
       "      <td>1992-06-21</td>\n",
       "    </tr>\n",
       "    <tr>\n",
       "      <th>17</th>\n",
       "      <td>9861</td>\n",
       "      <td>JENNIFER</td>\n",
       "      <td>HUETTE</td>\n",
       "      <td>ANALYST</td>\n",
       "      <td>7839</td>\n",
       "      <td>1996-07-01</td>\n",
       "    </tr>\n",
       "    <tr>\n",
       "      <th>18</th>\n",
       "      <td>9861</td>\n",
       "      <td>JENNIFER</td>\n",
       "      <td>HUETTE</td>\n",
       "      <td>ANALYST</td>\n",
       "      <td>7839</td>\n",
       "      <td>1996-07-01</td>\n",
       "    </tr>\n",
       "    <tr>\n",
       "      <th>19</th>\n",
       "      <td>9861</td>\n",
       "      <td>JENNIFER</td>\n",
       "      <td>HUETTE</td>\n",
       "      <td>ANALYST</td>\n",
       "      <td>7839</td>\n",
       "      <td>1996-07-01</td>\n",
       "    </tr>\n",
       "    <tr>\n",
       "      <th>20</th>\n",
       "      <td>9861</td>\n",
       "      <td>JENNIFER</td>\n",
       "      <td>HUETTE</td>\n",
       "      <td>ANALYST</td>\n",
       "      <td>7839</td>\n",
       "      <td>1996-07-01</td>\n",
       "    </tr>\n",
       "  </tbody>\n",
       "</table>\n",
       "</div>"
      ],
      "text/plain": [
       "    emplyeeid firstname  lastname         department  salary date_of_joining\n",
       "0      208856   Anirudh     sarma                 IT   35000            None\n",
       "1        9369      TONY     STARK  SOFTWARE ENGINEER    7902      1980-12-17\n",
       "2        9499       TIM     ADOLF           SALESMAN    7698      1981-02-20\n",
       "3        9566       KIM    JARVIS            MANAGER    7839      1981-04-02\n",
       "4        9654       SAM     MILES           SALESMAN    7698      1981-09-28\n",
       "5        9782     KEVIN      HILL            MANAGER    7839      1981-06-09\n",
       "6        9788    CONNIE     SMITH            ANALYST    7566      1982-12-09\n",
       "7        9839    ALFRED   KINSLEY          PRESIDENT    7566      1981-11-17\n",
       "8        9844      PAUL   TIMOTHY           SALESMAN    7698      1981-09-08\n",
       "9        9876      JOHN    ASGHAR  SOFTWARE ENGINEER    7788      1983-01-12\n",
       "10       9900      ROSE   SUMMERS     TECHNICAL LEAD    7698      1981-12-03\n",
       "11       9902    ANDREW  FAULKNER           ANAYLYST    7566      1981-12-03\n",
       "12       9934     KAREN  MATTHEWS  SOFTWARE ENGINEER    7782      1982-01-23\n",
       "13       9591     WENDY     SHAWN           SALESMAN    7698      1981-02-22\n",
       "14       9698     BELLA      SWAN            MANAGER    7839      1981-05-01\n",
       "15       9777     MADII   HIMBURY            ANALYST    7839      1981-05-01\n",
       "16       9860    ATHENA    WILSON            ANALYST    7839      1992-06-21\n",
       "17       9861  JENNIFER    HUETTE            ANALYST    7839      1996-07-01\n",
       "18       9861  JENNIFER    HUETTE            ANALYST    7839      1996-07-01\n",
       "19       9861  JENNIFER    HUETTE            ANALYST    7839      1996-07-01\n",
       "20       9861  JENNIFER    HUETTE            ANALYST    7839      1996-07-01"
      ]
     },
     "execution_count": 6,
     "metadata": {},
     "output_type": "execute_result"
    }
   ],
   "source": [
    "pd.read_sql(\"select * from SqlAssignment.worker\",mydb)"
   ]
  },
  {
   "cell_type": "code",
   "execution_count": 14,
   "id": "a8b9bbdf",
   "metadata": {},
   "outputs": [],
   "source": [
    "#1\n",
    "cursor.execute(\"select firstname as worker_name from sqlassignment.worker \")"
   ]
  },
  {
   "cell_type": "code",
   "execution_count": 15,
   "id": "2f28984a",
   "metadata": {},
   "outputs": [
    {
     "data": {
      "text/plain": [
       "[('Anirudh',),\n",
       " ('TONY',),\n",
       " ('TIM',),\n",
       " ('KIM',),\n",
       " ('SAM',),\n",
       " ('KEVIN',),\n",
       " ('CONNIE',),\n",
       " ('ALFRED',),\n",
       " ('PAUL',),\n",
       " ('JOHN',),\n",
       " ('ROSE',),\n",
       " ('ANDREW',),\n",
       " ('KAREN',),\n",
       " ('WENDY',),\n",
       " ('BELLA',),\n",
       " ('MADII',),\n",
       " ('ATHENA',),\n",
       " ('JENNIFER',),\n",
       " ('JENNIFER',),\n",
       " ('JENNIFER',),\n",
       " ('JENNIFER',)]"
      ]
     },
     "execution_count": 15,
     "metadata": {},
     "output_type": "execute_result"
    }
   ],
   "source": [
    "cursor.fetchall()"
   ]
  },
  {
   "cell_type": "code",
   "execution_count": 16,
   "id": "aad7ddf1",
   "metadata": {},
   "outputs": [],
   "source": [
    "#2\n",
    "cursor.execute(\"select distinct department from sqlassignment.worker \")"
   ]
  },
  {
   "cell_type": "code",
   "execution_count": 17,
   "id": "b204c089",
   "metadata": {},
   "outputs": [
    {
     "data": {
      "text/plain": [
       "[('IT',),\n",
       " ('SOFTWARE ENGINEER',),\n",
       " ('SALESMAN',),\n",
       " ('MANAGER',),\n",
       " ('ANALYST',),\n",
       " ('PRESIDENT',),\n",
       " ('TECHNICAL LEAD',),\n",
       " ('ANAYLYST',)]"
      ]
     },
     "execution_count": 17,
     "metadata": {},
     "output_type": "execute_result"
    }
   ],
   "source": [
    "cursor.fetchall()"
   ]
  },
  {
   "cell_type": "code",
   "execution_count": 22,
   "id": "b17f2963",
   "metadata": {},
   "outputs": [],
   "source": [
    "#3\n",
    "cursor.execute(\"select * from sqlassignment.worker order by emplyeeid desc limit 5 \")"
   ]
  },
  {
   "cell_type": "code",
   "execution_count": 23,
   "id": "abf76a98",
   "metadata": {},
   "outputs": [
    {
     "data": {
      "text/plain": [
       "[(208856, 'Anirudh', 'sarma', 'IT', 35000, None),\n",
       " (9934,\n",
       "  'KAREN',\n",
       "  'MATTHEWS',\n",
       "  'SOFTWARE ENGINEER',\n",
       "  7782,\n",
       "  datetime.date(1982, 1, 23)),\n",
       " (9902, 'ANDREW', 'FAULKNER', 'ANAYLYST', 7566, datetime.date(1981, 12, 3)),\n",
       " (9900, 'ROSE', 'SUMMERS', 'TECHNICAL LEAD', 7698, datetime.date(1981, 12, 3)),\n",
       " (9876,\n",
       "  'JOHN',\n",
       "  'ASGHAR',\n",
       "  'SOFTWARE ENGINEER',\n",
       "  7788,\n",
       "  datetime.date(1983, 1, 12))]"
      ]
     },
     "execution_count": 23,
     "metadata": {},
     "output_type": "execute_result"
    }
   ],
   "source": [
    "cursor.fetchall()"
   ]
  },
  {
   "cell_type": "code",
   "execution_count": null,
   "id": "df1084ef",
   "metadata": {},
   "outputs": [],
   "source": []
  }
 ],
 "metadata": {
  "kernelspec": {
   "display_name": "Python 3",
   "language": "python",
   "name": "python3"
  },
  "language_info": {
   "codemirror_mode": {
    "name": "ipython",
    "version": 3
   },
   "file_extension": ".py",
   "mimetype": "text/x-python",
   "name": "python",
   "nbconvert_exporter": "python",
   "pygments_lexer": "ipython3",
   "version": "3.8.8"
  }
 },
 "nbformat": 4,
 "nbformat_minor": 5
}
